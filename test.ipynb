{
 "cells": [
  {
   "cell_type": "markdown",
   "id": "a94eeb20",
   "metadata": {},
   "source": [
    "# Test"
   ]
  },
  {
   "cell_type": "markdown",
   "id": "73a8cbb0",
   "metadata": {},
   "source": [
    "## Group 29\n",
    "\n",
    "1. Aizhigit MUSSALI\n",
    "2. Ralif Rakhmatullin\n",
    "3. Zhanaidar MUKANOV"
   ]
  },
  {
   "cell_type": "code",
   "execution_count": 1,
   "id": "064b3259",
   "metadata": {},
   "outputs": [],
   "source": [
    "import os\n",
    "import glob\n",
    "import torch\n",
    "import torch.nn as nn\n",
    "from torch.utils.data import Dataset, DataLoader\n",
    "import torchvision.transforms as T\n",
    "from torchvision.models import resnet50\n",
    "import numpy as np\n",
    "\n",
    "from PIL import Image\n",
    "import matplotlib.pyplot as plt\n",
    "from sklearn.metrics import accuracy_score, recall_score, precision_score, roc_auc_score"
   ]
  },
  {
   "cell_type": "code",
   "execution_count": 2,
   "id": "9b536fdd",
   "metadata": {},
   "outputs": [],
   "source": [
    "class DeepFakeDataset(Dataset):\n",
    "    def __init__(self, imgs, transforms = None):\n",
    "        super().__init__()\n",
    "        self.imgs = imgs\n",
    "        self.transforms = transforms\n",
    "        \n",
    "    def __getitem__(self, idx):\n",
    "        image_name = self.imgs[idx]\n",
    "        img = Image.open(image_name)\n",
    "        img = img.resize((224, 224))\n",
    "        if image_name.split(\".\")[1].split(\"/\")[3] == \"original\": label = 1 # it is original\n",
    "        else: label = 0 # it is fake\n",
    "        label = torch.tensor(label, dtype = torch.float32)\n",
    "        img = self.transforms(img)\n",
    "        return img, label\n",
    "            \n",
    "        \n",
    "    def __len__(self):\n",
    "        return len(self.imgs)\n",
    "    "
   ]
  },
  {
   "cell_type": "code",
   "execution_count": 3,
   "id": "b519c5a4",
   "metadata": {},
   "outputs": [],
   "source": [
    "imgs = glob.glob(\"./data/test/*\")\n",
    "dataset = DeepFakeDataset(imgs, T.Compose([\n",
    "            T.ToTensor(),\n",
    "            T.Normalize((0, 0, 0),(1, 1, 1))\n",
    "        ]))\n",
    "dataloader = DataLoader(dataset = dataset, batch_size = 32, shuffle = True)"
   ]
  },
  {
   "cell_type": "code",
   "execution_count": 4,
   "id": "fbd0db59",
   "metadata": {},
   "outputs": [],
   "source": [
    "def test(model, data_path):\n",
    "    Accuracy, Recall, Precision, AUC = 0, 0, 0, 0\n",
    "    \n",
    "    model = resnet50(pretrained = True)\n",
    "    model.fc = nn.Sequential(nn.Linear(2048, 1, bias = True), nn.Sigmoid())\n",
    "    model.load_state_dict(torch.load(\"resnet50_best.pth\", map_location=torch.device('cpu')))\n",
    "    model.eval()\n",
    "    \n",
    "    preds_list = []\n",
    "    labels_list = []\n",
    "\n",
    "    for imgs, labels in dataloader:\n",
    "#         images.to(device)\n",
    "#         labels.to(device)\n",
    "        labels.reshape((labels.shape[0], 1))\n",
    "    \n",
    "        preds = model(imgs)\n",
    "        preds_list.extend(preds.tolist())\n",
    "        labels_list.extend(labels.tolist())\n",
    "    \n",
    "    labels_list, preds_list = np.array(labels_list), np.array(preds_list)\n",
    "    preds_list = preds_list > 0.5\n",
    "    Accuracy = accuracy_score(labels_list, preds_list)\n",
    "    Recall = recall_score(labels_list, preds_list)\n",
    "    Precision = precision_score(labels_list, preds_list)\n",
    "    AUC = roc_auc_score(labels_list, preds_list)\n",
    "    return Accuracy, Recall, Precision, AUC"
   ]
  },
  {
   "cell_type": "code",
   "execution_count": 5,
   "id": "52b7e9c7",
   "metadata": {},
   "outputs": [
    {
     "name": "stdout",
     "output_type": "stream",
     "text": [
      "(0.9827127659574468, 0.98, 0.9683794466403162, 0.9820318725099602)\n"
     ]
    }
   ],
   "source": [
    "result = test(\"./resnet50_best.pth\", \"./data/test\")\n",
    "print(f\"\")"
   ]
  }
 ],
 "metadata": {
  "kernelspec": {
   "display_name": "Python 3 (ipykernel)",
   "language": "python",
   "name": "python3"
  },
  "language_info": {
   "codemirror_mode": {
    "name": "ipython",
    "version": 3
   },
   "file_extension": ".py",
   "mimetype": "text/x-python",
   "name": "python",
   "nbconvert_exporter": "python",
   "pygments_lexer": "ipython3",
   "version": "3.9.15"
  }
 },
 "nbformat": 4,
 "nbformat_minor": 5
}
