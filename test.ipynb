{
 "cells": [
  {
   "cell_type": "markdown",
   "id": "8ac7d8ca",
   "metadata": {},
   "source": [
    "# Test Code"
   ]
  },
  {
   "cell_type": "markdown",
   "id": "ab52f619",
   "metadata": {},
   "source": [
    "## Group 29\n",
    "\n",
    "1. Aizhigit MUSSALI (56006183)\n",
    "2. Ralif RAKHMATULLIN(55836666)\n",
    "3. Zhanaidar MUKANOV (55574846)"
   ]
  },
  {
   "cell_type": "code",
   "execution_count": 1,
   "id": "c27d8480",
   "metadata": {},
   "outputs": [],
   "source": [
    "import os\n",
    "import glob\n",
    "import torch\n",
    "import torch.nn as nn\n",
    "from torch.utils.data import Dataset, DataLoader\n",
    "import torchvision.transforms as T\n",
    "from torchvision.models import resnet50\n",
    "import numpy as np\n",
    "from PIL import Image\n",
    "import matplotlib.pyplot as plt\n",
    "from sklearn.metrics import accuracy_score, recall_score, precision_score, roc_auc_score"
   ]
  },
  {
   "cell_type": "code",
   "execution_count": 2,
   "id": "2ef82286",
   "metadata": {},
   "outputs": [],
   "source": [
    "class DeepFakeDataset(Dataset):\n",
    "    def __init__(self, imgs, transforms = None):\n",
    "        super().__init__()\n",
    "        self.imgs = imgs\n",
    "        self.transforms = transforms\n",
    "        \n",
    "    def __getitem__(self, idx):\n",
    "        image_name = self.imgs[idx]\n",
    "        img = Image.open(image_name)\n",
    "        if \"original\" in image_name: label = 1 # it is original\n",
    "        else: label = 0 # it is fake\n",
    "        label = torch.tensor(label, dtype = torch.float32)\n",
    "        img = self.transforms(img)\n",
    "        return img, label\n",
    "    \n",
    "    def __len__(self):\n",
    "        return len(self.imgs)"
   ]
  },
  {
   "cell_type": "code",
   "execution_count": 3,
   "id": "84a4afab",
   "metadata": {},
   "outputs": [],
   "source": [
    "def make_dataloader(data_path):\n",
    "    original_imgs = glob.glob(f\"{data_path}/original/*\")\n",
    "    fake_imgs = glob.glob(f\"{data_path}/manipulated/*\")\n",
    "    original_imgs.extend(fake_imgs)\n",
    "    imgs = original_imgs\n",
    "    dataset = DeepFakeDataset(imgs, T.Compose([\n",
    "            T.ToTensor(),\n",
    "            T.Normalize((0, 0, 0),(1, 1, 1))\n",
    "        ]))\n",
    "    dataloader = DataLoader(dataset = dataset, batch_size = 16, shuffle = True)\n",
    "    return dataloader"
   ]
  },
  {
   "cell_type": "code",
   "execution_count": 4,
   "id": "8bfb4208",
   "metadata": {},
   "outputs": [],
   "source": [
    "def test(model_path, data_path):\n",
    "    Accuracy, Recall, Precision, AUC = 0, 0, 0, 0\n",
    "    \n",
    "    model = resnet50(pretrained = True)\n",
    "    model.fc = nn.Sequential(nn.Linear(2048, 1, bias = True), nn.Sigmoid())\n",
    "    model.load_state_dict(torch.load(model_path, map_location=torch.device('cpu')))\n",
    "    model.eval()\n",
    "    global_model = model\n",
    "    \n",
    "    preds_list = []\n",
    "    labels_list = []\n",
    "\n",
    "    dataloader = make_dataloader(data_path)\n",
    "    for imgs, labels in dataloader:\n",
    "        labels.reshape((labels.shape[0], 1))\n",
    "        preds = model(imgs)\n",
    "        preds_list.extend(preds.tolist())\n",
    "        labels_list.extend(labels.tolist())\n",
    "    \n",
    "    labels_list = np.array(labels_list)\n",
    "    preds_list = np.array(preds_list)\n",
    "    preds_list = preds_list > 0.5\n",
    "    print(preds_list)\n",
    "    print(labels_list)\n",
    "    global global_preds\n",
    "    global_preds = preds_list\n",
    "    global global_labels\n",
    "    global_labels = labels_list\n",
    "    print(len(global_preds))\n",
    "    print(len(global_labels))\n",
    "    Accuracy = accuracy_score(labels_list, preds_list)\n",
    "    Recall = recall_score(labels_list, preds_list)\n",
    "    Precision = precision_score(labels_list, preds_list)\n",
    "    AUC = roc_auc_score(labels_list, preds_list)\n",
    "    return Accuracy, Recall, Precision, AUC"
   ]
  },
  {
   "cell_type": "code",
   "execution_count": 5,
   "id": "b96b4a26",
   "metadata": {},
   "outputs": [
    {
     "name": "stdout",
     "output_type": "stream",
     "text": [
      "[[False]\n",
      " [False]\n",
      " [False]\n",
      " ...\n",
      " [ True]\n",
      " [False]\n",
      " [False]]\n",
      "[0. 0. 0. ... 1. 0. 0.]\n",
      "1505\n",
      "1505\n"
     ]
    }
   ],
   "source": [
    "result = test(\"./resnet50.pth\", \"./data/test\")"
   ]
  },
  {
   "cell_type": "code",
   "execution_count": 6,
   "id": "1c6c2ce3",
   "metadata": {
    "scrolled": false
   },
   "outputs": [
    {
     "name": "stdout",
     "output_type": "stream",
     "text": [
      "Accuracy: 0.8272425249169435\n",
      "Recall: 0.576\n",
      "Precision: 0.8571428571428571\n",
      "AUC: 0.7641194029850746\n"
     ]
    }
   ],
   "source": [
    "print(f\"Accuracy: {result[0]}\")\n",
    "print(f\"Recall: {result[1]}\")\n",
    "print(f\"Precision: {result[2]}\")\n",
    "print(f\"AUC: {result[3]}\")"
   ]
  },
  {
   "cell_type": "markdown",
   "id": "c2287175",
   "metadata": {},
   "source": [
    "### Confusion Matrix"
   ]
  },
  {
   "cell_type": "code",
   "execution_count": 24,
   "id": "217de4b2",
   "metadata": {},
   "outputs": [
    {
     "data": {
      "image/png": "[encoded data removed]",
      "text/plain": [
       "<Figure size 640x480 with 2 Axes>"
      ]
     },
     "metadata": {},
     "output_type": "display_data"
    }
   ],
   "source": [
    "import seaborn as sns\n",
    "import matplotlib.pyplot as plt\n",
    "from sklearn.metrics import confusion_matrix\n",
    "\n",
    "cm = confusion_matrix(global_labels, global_preds)  \n",
    "ax= plt.subplot()\n",
    "sns.heatmap(cm, annot=True, fmt='g', ax=ax);\n",
    "ax.set_xlabel('Predicted labels');ax.set_ylabel('True labels'); \n",
    "ax.set_title('Confusion Matrix'); \n",
    "ax.xaxis.set_ticklabels(['Manipulated', 'Original']); ax.yaxis.set_ticklabels(['Manipulated', 'Original']);"
   ]
  }
 ],
 "metadata": {
  "kernelspec": {
   "display_name": "Python 3 (ipykernel)",
   "language": "python",
   "name": "python3"
  },
  "language_info": {
   "codemirror_mode": {
    "name": "ipython",
    "version": 3
   },
   "file_extension": ".py",
   "mimetype": "text/x-python",
   "name": "python",
   "nbconvert_exporter": "python",
   "pygments_lexer": "ipython3",
   "version": "3.9.13"
  }
 },
 "nbformat": 4,
 "nbformat_minor": 5
}
